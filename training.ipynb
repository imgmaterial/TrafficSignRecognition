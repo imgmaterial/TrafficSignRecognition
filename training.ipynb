{
 "cells": [
  {
   "cell_type": "code",
   "execution_count": 1,
   "metadata": {},
   "outputs": [],
   "source": [
    "import numpy as np\n",
    "import pandas as pd\n",
    "import matplotlib.pyplot as plt\n",
    "import cv2\n",
    "import os\n",
    "import torch\n",
    "import torch.nn as nn\n",
    "import torch.optim as optim\n",
    "import torch.nn.functional as F\n",
    "from torch.utils.data import DataLoader, random_split"
   ]
  },
  {
   "cell_type": "code",
   "execution_count": 2,
   "metadata": {},
   "outputs": [
    {
     "name": "stdout",
     "output_type": "stream",
     "text": [
      "cuda\n"
     ]
    }
   ],
   "source": [
    "device = 'cuda' if torch.cuda.is_available() else 'cpu'\n",
    "print(device)"
   ]
  },
  {
   "cell_type": "markdown",
   "metadata": {},
   "source": [
    "### Preparing dataset for model training\n",
    "Defining a Dataset class to load the tensor label pairs and dataloader to feed the training in batches"
   ]
  },
  {
   "cell_type": "code",
   "execution_count": 3,
   "metadata": {},
   "outputs": [],
   "source": [
    "from torch.utils.data import Dataset\n",
    "class GTSRBImageDataset(Dataset):\n",
    "    def __init__(self, label_file, file_dir = \"\", transform = None):\n",
    "        self.df = pd.read_csv(label_file)\n",
    "        self.labels = self.df[\"Labels\"]\n",
    "        self.file_names = self.df[\"Path\"]\n",
    "        self.file_dir = file_dir\n",
    "        self.transform = transform\n",
    "    \n",
    "    def __len__(self):\n",
    "        return len(self.labels)\n",
    "\n",
    "    def __getitem__(self, index):\n",
    "        file_path = os.path.join(self.file_dir, self.file_names[index])\n",
    "        img = cv2.imread(file_path)\n",
    "        label = self.labels[index]\n",
    "        if self.transform:\n",
    "            img = self.transform(img)\n",
    "        return img, label"
   ]
  },
  {
   "cell_type": "code",
   "execution_count": 4,
   "metadata": {},
   "outputs": [],
   "source": [
    "from torchvision.transforms import ToTensor\n",
    "transform = ToTensor()\n",
    "dataset = GTSRBImageDataset(\"labels.csv\", transform=transform)"
   ]
  },
  {
   "cell_type": "code",
   "execution_count": 5,
   "metadata": {},
   "outputs": [],
   "source": [
    "from torch.utils.data import random_split\n",
    "train, test = random_split(dataset, [0.7,0.3])\n",
    "training_loader = DataLoader(train, batch_size=32, shuffle=True)\n",
    "test_loader = DataLoader(test, batch_size=32, shuffle=True)"
   ]
  },
  {
   "cell_type": "markdown",
   "metadata": {},
   "source": [
    "### Test Model\n",
    "Setting up a simple CNN model to test training on the datset"
   ]
  },
  {
   "cell_type": "code",
   "execution_count": 6,
   "metadata": {},
   "outputs": [],
   "source": [
    "import torch.nn.functional as F\n",
    "\n",
    "\n",
    "class SimpleCNN(nn.Module):\n",
    "    def __init__(self, num_classes=10):\n",
    "        super(SimpleCNN, self).__init__()\n",
    "        \n",
    "        self.conv1 = nn.Conv2d(in_channels=3, out_channels=32, kernel_size=3, stride=1, padding=1)\n",
    "        self.bn1 = nn.BatchNorm2d(32)\n",
    "        self.conv2 = nn.Conv2d(in_channels=32, out_channels=64, kernel_size=3, stride=1, padding=1)\n",
    "        self.bn2 = nn.BatchNorm2d(64)\n",
    "        self.conv3 = nn.Conv2d(in_channels=64, out_channels=128, kernel_size=3, stride=1, padding=1)\n",
    "        self.bn3 = nn.BatchNorm2d(128)\n",
    "\n",
    "        self.pool = nn.MaxPool2d(kernel_size=2, stride=2)\n",
    "        \n",
    "        self.fc1 = nn.Linear(128 * 8 * 8, 256)\n",
    "        self.fc2 = nn.Linear(256, num_classes)\n",
    "\n",
    "    def forward(self, x):\n",
    "        x = self.pool(F.relu(self.bn1(self.conv1(x))))\n",
    "        x = self.pool(F.relu(self.bn2(self.conv2(x))))\n",
    "        x = self.pool(F.relu(self.bn3(self.conv3(x))))\n",
    "        \n",
    "        x = torch.flatten(x, start_dim=1)\n",
    "        x = F.relu(self.fc1(x))\n",
    "        x = self.fc2(x)\n",
    "        \n",
    "        return x\n"
   ]
  },
  {
   "cell_type": "markdown",
   "metadata": {},
   "source": [
    "### Helper functions\n",
    "Preparing helper functions for training and validation"
   ]
  },
  {
   "cell_type": "code",
   "execution_count": 7,
   "metadata": {},
   "outputs": [],
   "source": [
    "from tqdm import tqdm\n",
    "class AverageMeter(object):\n",
    "    \"\"\"Computes and stores the average and current value\"\"\"\n",
    "    def __init__(self):\n",
    "        self.reset()\n",
    "\n",
    "    def reset(self):\n",
    "        self.val = 0\n",
    "        self.avg = 0\n",
    "        self.sum = 0\n",
    "        self.count = 0\n",
    "\n",
    "    def update(self, val, n=1):\n",
    "        self.val = val\n",
    "        self.sum += val * n\n",
    "        self.count += n\n",
    "        self.avg = self.sum / self.count\n",
    "from torchmetrics import Accuracy\n",
    "def train_one_epoch(model, train_loader, loss_fn, optimizer, epoch=None, num_classes=10):\n",
    "    model.to(device)\n",
    "    loss_fn.to(device)\n",
    "    model.train()\n",
    "    \n",
    "    loss_train = AverageMeter()\n",
    "    acc_train = Accuracy(task=\"multiclass\", num_classes=num_classes).to(device)\n",
    "    acc_train.reset()\n",
    "\n",
    "    with tqdm(train_loader, unit=\"batch\") as tepoch:\n",
    "        if epoch is not None:\n",
    "            tepoch.set_description(f\"Epoch {epoch}\")\n",
    "\n",
    "        for inputs, targets in tepoch:\n",
    "            inputs, targets = inputs.to(device), targets.to(device)\n",
    "\n",
    "            optimizer.zero_grad() \n",
    "            outputs = model(inputs)\n",
    "            loss = loss_fn(outputs, targets)\n",
    "\n",
    "            loss.backward()\n",
    "            optimizer.step()\n",
    "\n",
    "            loss_train.update(loss.item())\n",
    "            acc_train.update(outputs, targets.int())\n",
    "\n",
    "            tepoch.set_postfix(loss=loss_train.avg)\n",
    "\n",
    "    final_accuracy = acc_train.compute().item()\n",
    "    return model, loss_train.avg, final_accuracy\n",
    "\n",
    "import sklearn.metrics as metrics\n",
    "def validation(model, test_loader, loss_fn):\n",
    "  model.eval()\n",
    "  with torch.no_grad():\n",
    "    loss_valid = AverageMeter()\n",
    "    acc_valid = Accuracy(task=\"multiclass\", num_classes=43).to(device)\n",
    "    predictions, labels = [], []\n",
    "    for i, (inputs, targets) in enumerate(test_loader):\n",
    "      inputs = inputs.to(device)\n",
    "      targets = targets.to(device)\n",
    "\n",
    "      outputs = model(inputs)\n",
    "      loss = loss_fn(outputs, targets)\n",
    "\n",
    "      loss_valid.update(loss.item())\n",
    "      acc_valid(outputs, targets.int())\n",
    "      predictions.append(torch.max(outputs.data, 1)[1].cpu().numpy())\n",
    "      labels.append(targets.cpu().numpy())\n",
    "    predictions = np.concatenate(predictions)\n",
    "    labels = np.concatenate(labels)\n",
    "    confusion = metrics.confusion_matrix(labels,predictions)\n",
    "  return loss_valid.avg, acc_valid.compute().item(), confusion"
   ]
  },
  {
   "cell_type": "markdown",
   "metadata": {},
   "source": [
    "### Training the sample model"
   ]
  },
  {
   "cell_type": "code",
   "execution_count": 24,
   "metadata": {},
   "outputs": [
    {
     "name": "stdout",
     "output_type": "stream",
     "text": [
      "SimpleCNN(\n",
      "  (conv1): Conv2d(3, 32, kernel_size=(3, 3), stride=(1, 1), padding=(1, 1))\n",
      "  (bn1): BatchNorm2d(32, eps=1e-05, momentum=0.1, affine=True, track_running_stats=True)\n",
      "  (conv2): Conv2d(32, 64, kernel_size=(3, 3), stride=(1, 1), padding=(1, 1))\n",
      "  (bn2): BatchNorm2d(64, eps=1e-05, momentum=0.1, affine=True, track_running_stats=True)\n",
      "  (conv3): Conv2d(64, 128, kernel_size=(3, 3), stride=(1, 1), padding=(1, 1))\n",
      "  (bn3): BatchNorm2d(128, eps=1e-05, momentum=0.1, affine=True, track_running_stats=True)\n",
      "  (pool): MaxPool2d(kernel_size=2, stride=2, padding=0, dilation=1, ceil_mode=False)\n",
      "  (fc1): Linear(in_features=8192, out_features=256, bias=True)\n",
      "  (fc2): Linear(in_features=256, out_features=43, bias=True)\n",
      ")\n"
     ]
    },
    {
     "name": "stderr",
     "output_type": "stream",
     "text": [
      "Epoch 0:   0%|          | 0/858 [00:00<?, ?batch/s]"
     ]
    },
    {
     "name": "stderr",
     "output_type": "stream",
     "text": [
      "Epoch 0: 100%|██████████| 858/858 [00:09<00:00, 91.40batch/s, loss=1.2] \n",
      "Epoch 1: 100%|██████████| 858/858 [00:09<00:00, 91.45batch/s, loss=0.158]\n",
      "Epoch 2: 100%|██████████| 858/858 [00:09<00:00, 90.78batch/s, loss=0.0719]\n",
      "Epoch 3: 100%|██████████| 858/858 [00:09<00:00, 91.07batch/s, loss=0.0417]\n",
      "Epoch 4: 100%|██████████| 858/858 [00:09<00:00, 90.93batch/s, loss=0.0278]\n",
      "Epoch 5: 100%|██████████| 858/858 [00:09<00:00, 91.02batch/s, loss=0.0192]\n",
      "Epoch 6: 100%|██████████| 858/858 [00:09<00:00, 91.60batch/s, loss=0.0148]\n",
      "Epoch 7: 100%|██████████| 858/858 [00:09<00:00, 91.25batch/s, loss=0.0112]\n",
      "Epoch 8: 100%|██████████| 858/858 [00:09<00:00, 90.70batch/s, loss=0.00917]\n",
      "Epoch 9: 100%|██████████| 858/858 [00:09<00:00, 91.50batch/s, loss=0.00733]\n",
      "Epoch 10: 100%|██████████| 858/858 [00:09<00:00, 91.18batch/s, loss=0.00612]\n",
      "Epoch 11: 100%|██████████| 858/858 [00:09<00:00, 90.72batch/s, loss=0.00534]\n",
      "Epoch 12: 100%|██████████| 858/858 [00:09<00:00, 91.87batch/s, loss=0.00457]\n",
      "Epoch 13: 100%|██████████| 858/858 [00:09<00:00, 91.32batch/s, loss=0.00398]\n",
      "Epoch 14: 100%|██████████| 858/858 [00:09<00:00, 90.69batch/s, loss=0.00364]\n",
      "Epoch 15: 100%|██████████| 858/858 [00:09<00:00, 91.41batch/s, loss=0.00338]\n",
      "Epoch 16: 100%|██████████| 858/858 [00:09<00:00, 91.51batch/s, loss=0.00297]\n",
      "Epoch 17: 100%|██████████| 858/858 [00:09<00:00, 91.42batch/s, loss=0.00276]\n",
      "Epoch 18: 100%|██████████| 858/858 [00:09<00:00, 91.33batch/s, loss=0.00257]\n",
      "Epoch 19: 100%|██████████| 858/858 [00:09<00:00, 90.10batch/s, loss=0.00228]"
     ]
    },
    {
     "name": "stdout",
     "output_type": "stream",
     "text": [
      "Model accuracy 1.0, Loss 0.0022810054731979695\n"
     ]
    },
    {
     "name": "stderr",
     "output_type": "stream",
     "text": [
      "\n"
     ]
    }
   ],
   "source": [
    "net = SimpleCNN(43)\n",
    "print(net)\n",
    "def train_model(model, epoch_amount, loader):\n",
    "    model.to(device)\n",
    "    criterion = torch.nn.CrossEntropyLoss()\n",
    "    optimizer = optim.SGD(model.parameters(), lr=0.001, momentum=0.9)\n",
    "    for epoch in range(epoch_amount):\n",
    "        model, loss, acc = train_one_epoch(model, loader, criterion, optimizer, num_classes=43, epoch=epoch)\n",
    "    print(f\"Model accuracy {acc}, Loss {loss}\")\n",
    "train_model(net, 20, training_loader)"
   ]
  },
  {
   "cell_type": "code",
   "execution_count": 26,
   "metadata": {},
   "outputs": [
    {
     "name": "stdout",
     "output_type": "stream",
     "text": [
      "Test accuracy 0.9955790042877197, test loss 0.015844079969571358\n",
      "[[ 58   0   0   0   0   0   0   0   0   0   0   0   0   0   0   0   0   0\n",
      "    0   0   0   0   0   0   0   0   0   0   0   0   0   0   0   0   0   0\n",
      "    0   0   0   0   0   0   0]\n",
      " [  0 674   1   1   0   1   0   0   0   0   0   0   0   0   0   0   0   1\n",
      "    0   0   0   0   0   0   0   0   0   0   0   0   0   0   0   0   0   0\n",
      "    0   0   0   0   0   0   0]\n",
      " [  0   0 664   0   0   1   0   0   1   0   0   0   0   0   0   0   0   0\n",
      "    0   0   0   0   0   0   0   0   0   0   0   0   0   0   0   0   0   0\n",
      "    0   0   0   0   0   0   0]\n",
      " [  0   0   0 415   0   1   0   0   0   0   0   0   0   0   0   0   0   0\n",
      "    0   0   0   0   0   0   0   0   0   0   0   0   0   0   0   0   0   0\n",
      "    0   0   0   0   0   0   0]\n",
      " [  0   0   0   0 601   0   0   1   2   0   0   0   0   0   0   0   0   0\n",
      "    0   0   0   0   0   0   0   0   0   0   0   0   0   0   0   0   0   0\n",
      "    0   0   0   0   0   0   0]\n",
      " [  0   0   0   3   0 533   0   0   0   0   0   1   0   0   0   0   0   0\n",
      "    0   0   0   0   0   0   0   1   0   0   0   0   0   0   0   0   0   0\n",
      "    0   0   0   0   0   0   0]\n",
      " [  0   0   0   0   0   0 113   0   0   0   0   0   0   0   0   0   0   0\n",
      "    0   0   0   0   0   0   0   0   0   0   0   0   0   0   0   0   0   0\n",
      "    0   0   0   0   0   0   0]\n",
      " [  0   1   0   0   0   5   0 412   2   0   0   0   0   0   0   0   0   0\n",
      "    0   0   0   0   0   0   0   0   0   0   0   0   0   0   0   0   0   0\n",
      "    0   0   0   0   0   0   0]\n",
      " [  0   0   0   0   1   2   0   0 417   0   0   0   0   0   0   0   0   0\n",
      "    0   0   0   0   0   0   0   0   0   0   0   0   0   0   0   0   0   0\n",
      "    0   0   0   0   0   0   0]\n",
      " [  0   0   0   0   0   1   0   0   0 468   0   0   0   0   0   0   0   0\n",
      "    0   0   0   0   0   0   0   0   0   0   0   0   0   0   0   0   0   0\n",
      "    0   0   0   0   0   0   0]\n",
      " [  0   0   0   0   0   0   0   0   0   0 621   0   0   1   0   0   0   0\n",
      "    0   0   0   0   0   0   0   0   0   0   0   0   0   0   0   0   0   0\n",
      "    0   0   0   0   0   0   0]\n",
      " [  0   0   0   0   0   0   0   0   0   0   0 414   0   0   0   0   0   0\n",
      "    0   0   0   2   0   0   0   0   0   0   0   0   0   0   0   0   0   0\n",
      "    0   0   0   0   0   0   0]\n",
      " [  0   0   0   0   0   0   0   0   0   0   0   0 595   0   0   0   0   0\n",
      "    0   0   0   0   0   0   0   0   0   0   0   0   0   0   0   0   0   0\n",
      "    0   0   0   0   0   0   0]\n",
      " [  0   0   0   0   0   0   0   0   0   0   0   0   1 661   0   0   0   0\n",
      "    0   0   0   0   0   0   0   0   0   0   0   0   0   0   0   0   0   0\n",
      "    0   0   0   0   0   0   0]\n",
      " [  0   0   0   0   0   0   0   0   0   0   0   0   0   0 240   0   0   0\n",
      "    0   0   0   0   0   0   0   0   0   0   0   0   0   0   0   0   0   0\n",
      "    0   0   0   0   0   0   0]\n",
      " [  0   0   0   1   0   0   0   0   0   0   0   0   0   0   0 180   0   0\n",
      "    0   0   0   0   0   0   0   0   0   0   0   0   0   0   0   0   0   0\n",
      "    0   0   0   0   0   0   0]\n",
      " [  0   0   0   0   0   0   0   0   0   1   0   0   0   0   0   0 123   0\n",
      "    0   0   0   0   0   0   0   0   0   0   0   0   0   0   0   0   0   0\n",
      "    0   0   0   0   0   0   0]\n",
      " [  0   0   0   0   0   0   0   0   0   0   0   0   0   0   0   0   0 325\n",
      "    0   0   0   0   0   0   0   0   0   0   0   0   0   0   0   0   0   0\n",
      "    0   0   0   0   0   0   0]\n",
      " [  0   0   0   0   0   1   0   0   0   0   0   1   0   0   0   0   0   0\n",
      "  348   0   0   0   0   0   0   0   0   0   0   0   0   0   0   0   0   0\n",
      "    0   0   0   0   0   0   0]\n",
      " [  0   0   0   0   0   0   0   0   0   0   0   0   0   0   0   0   0   0\n",
      "    0  59   0   1   0   1   0   0   0   0   0   0   0   0   0   0   0   0\n",
      "    0   0   0   0   0   0   0]\n",
      " [  0   0   0   0   0   0   0   0   0   0   0   0   0   0   0   0   0   0\n",
      "    1   0 108   0   0   0   0   0   0   0   1   0   0   0   0   0   0   0\n",
      "    0   0   0   0   0   0   0]\n",
      " [  0   0   0   0   0   0   0   0   0   0   0   0   0   0   0   0   0   0\n",
      "    0   0   0 121   0   0   0   0   0   0   0   0   0   0   0   0   0   0\n",
      "    0   0   0   0   0   0   0]\n",
      " [  0   0   0   0   0   0   0   0   0   0   0   0   0   0   0   0   0   0\n",
      "    0   0   0   0 117   0   0   0   0   0   0   0   0   0   0   0   0   0\n",
      "    0   0   0   0   0   0   0]\n",
      " [  0   0   0   0   0   0   0   0   0   1   0   0   0   0   0   0   0   0\n",
      "    0   0   0   0   0 146   0   0   0   0   0   0   0   0   0   0   0   0\n",
      "    0   0   0   0   0   0   0]\n",
      " [  0   0   0   0   0   0   0   0   0   0   0   0   0   0   0   0   0   0\n",
      "    0   0   0   0   0   0  80   0   0   0   0   0   0   0   0   0   0   0\n",
      "    0   0   0   0   0   0   0]\n",
      " [  0   0   0   0   0   0   0   0   0   0   0   0   0   0   0   0   0   0\n",
      "    0   0   0   0   0   0   0 458   0   0   0   0   0   0   0   0   0   0\n",
      "    0   0   0   0   0   0   0]\n",
      " [  0   0   0   0   0   0   0   0   0   0   0   0   0   0   0   0   0   0\n",
      "    0   0   0   0   0   0   0   0 194   0   1   0   0   0   0   0   0   0\n",
      "    0   0   0   0   0   0   0]\n",
      " [  0   0   0   0   0   0   0   0   0   0   0   0   0   0   0   0   0   0\n",
      "    0   0   0   0   0   0   0   0   0  75   0   0   0   0   0   0   0   0\n",
      "    0   0   0   0   0   0   0]\n",
      " [  0   0   0   0   0   0   0   0   0   0   0   0   0   0   0   0   0   0\n",
      "    0   0   0   0   0   0   0   0   0   0 160   0   1   0   0   0   0   0\n",
      "    0   0   0   0   0   0   0]\n",
      " [  0   0   0   0   0   0   0   0   0   0   0   0   0   0   0   0   0   0\n",
      "    0   0   0   0   1   0   0   0   0   0   0  79   0   0   0   0   0   0\n",
      "    0   0   0   0   0   0   0]\n",
      " [  0   0   0   0   0   0   0   0   0   0   0   1   0   0   0   0   0   0\n",
      "    0   0   0   0   0   0   0   0   0   0   0   0 122   0   0   0   0   0\n",
      "    0   0   0   0   0   0   0]\n",
      " [  0   0   0   0   0   0   0   0   0   0   0   0   0   0   0   0   0   0\n",
      "    0   0   0   0   0   0   0   0   0   0   0   0   0 241   0   0   0   0\n",
      "    0   0   0   0   0   0   0]\n",
      " [  0   0   0   0   0   0   0   0   0   0   0   0   0   0   0   0   0   0\n",
      "    0   0   0   0   0   0   0   0   0   0   0   0   0   0  72   0   0   0\n",
      "    0   0   0   0   0   0   0]\n",
      " [  0   0   0   0   0   0   0   0   0   0   0   0   0   0   0   0   0   0\n",
      "    0   0   0   0   0   0   0   0   0   0   0   0   0   0   0 206   0   0\n",
      "    1   0   0   0   0   0   0]\n",
      " [  0   0   0   0   0   0   0   0   0   0   0   0   0   0   0   0   0   0\n",
      "    0   0   0   0   0   0   0   0   0   0   0   0   0   0   0   0 105   0\n",
      "    1   0   0   0   0   0   0]\n",
      " [  0   0   0   0   0   0   0   0   0   0   0   0   0   0   0   0   0   0\n",
      "    0   0   0   0   0   0   0   0   0   0   0   0   0   0   0   0   0 364\n",
      "    0   0   0   0   1   0   0]\n",
      " [  0   0   0   0   0   0   0   0   0   0   0   0   0   0   0   0   0   0\n",
      "    0   0   0   0   0   0   0   0   0   0   0   0   0   0   0   0   0   0\n",
      "  119   0   0   0   0   0   0]\n",
      " [  0   0   0   0   0   0   0   0   0   0   0   0   0   0   0   0   0   0\n",
      "    0   0   0   0   0   0   0   0   0   0   0   0   0   0   0   0   0   0\n",
      "    0  65   0   0   0   0   0]\n",
      " [  0   0   0   0   0   0   0   0   0   0   0   0   0   0   0   0   0   0\n",
      "    0   0   0   0   0   0   0   0   0   0   0   0   0   0   0   0   0   0\n",
      "    0   0 613   0   0   0   0]\n",
      " [  0   0   0   0   0   0   0   0   0   0   0   0   0   0   0   0   0   0\n",
      "    0   0   0   0   0   0   0   0   0   0   0   0   0   0   0   1   0   0\n",
      "    0   0   0  92   0   0   0]\n",
      " [  0   0   1   0   0   0   0   0   0   0   0   0   0   0   0   0   0   0\n",
      "    0   0   0   0   0   0   0   0   0   0   0   0   0   0   0   0   0   0\n",
      "    0   0   0   0 106   0   0]\n",
      " [  0   0   0   0   0   0   0   0   0   0   0   0   0   0   0   0   0   0\n",
      "    0   0   0   0   0   0   0   0   0   0   0   0   0   0   1   0   0   0\n",
      "    0   0   1   0   0  76   0]\n",
      " [  0   0   0   1   0   0   0   0   0   0   0   0   0   0   0   0   0   0\n",
      "    0   0   0   0   0   0   0   0   0   0   0   0   0   0   0   0   0   0\n",
      "    0   0   0   0   0   0  70]]\n"
     ]
    }
   ],
   "source": [
    "test_loss, test_acc, confusion = validation(net, test_loader, criterion)\n",
    "print(f\"Test accuracy {test_acc}, test loss {test_loss}\")\n",
    "def print_array(array):\n",
    "  np.set_printoptions(threshold=np.inf)\n",
    "  print(array)\n",
    "  np.set_printoptions(threshold=1000)\n",
    "print_array(confusion)"
   ]
  },
  {
   "cell_type": "code",
   "execution_count": 27,
   "metadata": {},
   "outputs": [
    {
     "name": "stdout",
     "output_type": "stream",
     "text": [
      "2202155\n"
     ]
    }
   ],
   "source": [
    "total_params = sum(p.numel() for p in net.parameters())\n",
    "print(total_params)"
   ]
  },
  {
   "cell_type": "code",
   "execution_count": 28,
   "metadata": {},
   "outputs": [],
   "source": [
    "torch.save(net, \"model_CNN.pt\")"
   ]
  },
  {
   "cell_type": "code",
   "execution_count": 29,
   "metadata": {},
   "outputs": [],
   "source": [
    "CNN_model = torch.load(\"model_CNN.pt\", weights_only=False)\n",
    "\n",
    "swedish_dataset = GTSRBImageDataset(\"swedish_labels.csv\", transform=transform)\n",
    "swedish_train, swedish_test = random_split(swedish_dataset, [0.7,0.3])\n",
    "swedish_training_loader = DataLoader(swedish_train, batch_size=32, shuffle=True)\n",
    "swedish_test_loader = DataLoader(swedish_test, batch_size=32, shuffle=True)"
   ]
  },
  {
   "cell_type": "code",
   "execution_count": 30,
   "metadata": {},
   "outputs": [
    {
     "name": "stdout",
     "output_type": "stream",
     "text": [
      "Test accuracy 0.40831294655799866, test loss 3.3800436716813307\n",
      "[[ 6  0  4  0  2  3  0  0  2  0  0  0  0  0  0  0  0  0  0  2  0  0  0  0\n",
      "   0  1  0  0  0  0  0  0  0  0]\n",
      " [ 3  1  1  0  2  0  0  0  0  0  0  0  1  0  0  0  0  0  0  0  0  0  0  1\n",
      "   0  0  0  0  0  0  0  0  0  0]\n",
      " [ 0  0  0  0  0  0  0  0  0  0  0  0  0  0  0  0  0  0  0  0  0  0  0  0\n",
      "   0  0  0  0  0  0  0  0  0  0]\n",
      " [ 0  0  2  0  1  0  0  0  0  0  0  0  0  0  0  0  0  0  0  0  0  0  0  0\n",
      "   0  0  0  0  0  0  0  0  0  0]\n",
      " [ 0  0  0  0  0  0  0  0  0  0  0  0  0  0  0  0  0  0  0  0  0  0  0  0\n",
      "   0  0  0  0  0  0  0  0  0  0]\n",
      " [ 0  0  0  0  0  0  0  0  0  0  0  0  0  0  0  0  0  0  0  0  0  0  0  0\n",
      "   0  0  0  0  0  0  0  0  0  0]\n",
      " [ 0  0  0  0  0  0  0  0  0  0  0  0  0  0  0  0  0  0  0  0  0  0  0  0\n",
      "   0  0  0  0  0  0  0  0  0  0]\n",
      " [ 0  0  0  0  0  0  0  0  0  0  0  0  0  0  0  0  0  0  0  0  0  0  0  0\n",
      "   0  0  0  0  0  0  0  0  0  0]\n",
      " [ 0  0  0  0  0  0  0  0 28  0  1  0  0  0  0  0  0  0  0  0  0  0  0  0\n",
      "   0  0  0  0  0  0  0  0  0  1]\n",
      " [ 0  0  0  0  0  0  0  0 23 19  4  0  5  0  0  0  0  0  0  0  0  0  0  0\n",
      "   0  0  0  0  0  0  0  1  0  0]\n",
      " [ 0  0  0  0  0  0  0  0  2  0 10  0  0  0  0  0  0  1  0  0  0  0  0  0\n",
      "   0  0  0  0  0  0  0  0  0  1]\n",
      " [ 0  0  1  0  1  0  0  0  2  0  2 10  0  0  0  0  0  0  0  0  0  0  0  1\n",
      "   0  0  0  0  0  0  0  0  0  0]\n",
      " [ 0  0  0  0  0  0  0  0  1  0  5  0 22  0  0  1  0  0  0  0  0  0  0  0\n",
      "   0  0  0  0  0  0  0  0  0  0]\n",
      " [ 0  0  0  0  0  0  0  0  0  0  0  0  0  0  0  0  0  0  0  0  0  0  0  0\n",
      "   0  0  0  0  0  0  0  0  0  0]\n",
      " [ 0  0  0  0  0  0  0  0  0  0  0  0  0  0  0  0  0  0  0  0  0  0  0  0\n",
      "   0  0  0  0  0  0  0  0  0  0]\n",
      " [ 0  0  0  0  0  0  0  0  0  0  0  0  0  0  0  0  0  0  0  0  0  0  0  0\n",
      "   0  0  0  0  0  0  0  0  0  0]\n",
      " [ 0  0  0  0  0  0  0  0  1  0  0  0  0  0  0  0  0  0  0  0  3  0  0  0\n",
      "   0  0  0  0  0  0  0  0  0  0]\n",
      " [ 0  0  0  0  0  0  0  0  0  0  0  0  0  0  0  0  0  0  0  0  0  0  0  0\n",
      "   0  0  0  0  0  0  0  0  0  0]\n",
      " [ 0  0  0  0  0  0  0  0  0  0  0  0  0  0  0  0  0  0  0  0  0  0  0  0\n",
      "   0  0  0  0  0  0  0  0  0  0]\n",
      " [ 1  0  0  0  0  0  0  0  0  0  1  0  0  1  0  0  0  0  0  3  1  0  0  1\n",
      "   0  0  0  0  0  0  0  0  0  0]\n",
      " [ 0  0  0  0  0  0  0  0  0  0  0  0  0  0  0  0  0  0  0  0  0  0  0  0\n",
      "   0  0  0  0  0  0  0  0  0  0]\n",
      " [ 1  0  0  7  0  0  0  0 22  0  0  0  0 13  1  0  0  1 16  8  5  0  0  0\n",
      "   0  0  1  6  0  2  2  2  0  3]\n",
      " [ 0  0  0  0  0  0  0  4  0  0  2  0  0  2  0  0  0  0  0 17  0  0  3  4\n",
      "   1  0  0  0  0  0  0  0  0  1]\n",
      " [ 0  0  0  0  0  0  0  1 12  0  0  0  0  0  0  0  0  0  0  0  0  0  0  1\n",
      "   0  0  0  1  0  0  0  0  0  0]\n",
      " [ 0  0  0  0  0  0  0  0  0  0  0  0  0  0  0  0  0  0  0  0  0  0  0  0\n",
      "   0  0  0  0  0  0  0  0  0  0]\n",
      " [ 0  0  0  0  0  0  0  0  0  0  0  0  0  0  0  0  0  0  0  0  0  0  0  0\n",
      "   0  0  0  0  0  0  0  0  0  0]\n",
      " [ 0  0  0  0  0  0  0  0  0  0  0  0  0  0  0  0  0  0  0  0  0  0  0  0\n",
      "   0  0  8  0  1  0  0  0  0  0]\n",
      " [ 0  0  0  0  0  0  0  0  0  0  0  0  0  0  0  0  0  0  0  0  0  0  0  0\n",
      "   0  0  0  0  0  0  0  0  0  0]\n",
      " [ 0  0  0  0  0  0  1  0  0  0  0  0  0  0  0  0  0  0  0  0  0  0  0  0\n",
      "   0  0  1  0  0  0  0  0  0  0]\n",
      " [ 0  0  0  0  0  0  0  0  0  0  0  0  0  0  0  0  0  0  0  0  0  0  0  0\n",
      "   0  0  0  0  0  0  0  0  0  0]\n",
      " [ 0  0  0  0  0  0  0  0  0  0  0  0  0  0  0  0  0  0  0  0  0  0  0  0\n",
      "   0  0  0  0  0  0  0  0  0  0]\n",
      " [ 0  2  0  0  0  0  0  0  0  1  1  1  0  0  0  0  0  0  0  0  0  0  0  0\n",
      "   0  0  0  2  0  0  0 43  0  3]\n",
      " [ 0  0  0  0  0  0  0  0  0  0  0  0  0  0  0  0  0  0  0  0  0  0  0  0\n",
      "   0  0  0  0  0  0  0  0  2  0]\n",
      " [ 0  0  0  0  1  0  0  0  1  0  0  0  1  0  0  0  0  0  0  0  0  0  0  0\n",
      "   0  0  0  3  1  0  0  0  0 11]]\n"
     ]
    }
   ],
   "source": [
    "test_loss, test_acc, confusion = validation(CNN_model, swedish_test_loader, criterion)\n",
    "print(f\"Test accuracy {test_acc}, test loss {test_loss}\")\n",
    "def print_array(array):\n",
    "  np.set_printoptions(threshold=np.inf)\n",
    "  print(array)\n",
    "  np.set_printoptions(threshold=1000)\n",
    "print_array(confusion)"
   ]
  },
  {
   "cell_type": "code",
   "execution_count": 31,
   "metadata": {},
   "outputs": [
    {
     "name": "stderr",
     "output_type": "stream",
     "text": [
      "Epoch 0: 100%|██████████| 30/30 [00:00<00:00, 89.25batch/s, loss=1.39]\n",
      "Epoch 1: 100%|██████████| 30/30 [00:00<00:00, 91.63batch/s, loss=0.432]\n",
      "Epoch 2: 100%|██████████| 30/30 [00:00<00:00, 90.47batch/s, loss=0.244]\n",
      "Epoch 3: 100%|██████████| 30/30 [00:00<00:00, 91.55batch/s, loss=0.161]\n",
      "Epoch 4: 100%|██████████| 30/30 [00:00<00:00, 90.97batch/s, loss=0.103]\n",
      "Epoch 5: 100%|██████████| 30/30 [00:00<00:00, 91.16batch/s, loss=0.0658]\n",
      "Epoch 6: 100%|██████████| 30/30 [00:00<00:00, 87.66batch/s, loss=0.0508]\n",
      "Epoch 7: 100%|██████████| 30/30 [00:00<00:00, 90.78batch/s, loss=0.0638]\n",
      "Epoch 8: 100%|██████████| 30/30 [00:00<00:00, 92.93batch/s, loss=0.0341]\n",
      "Epoch 9: 100%|██████████| 30/30 [00:00<00:00, 92.57batch/s, loss=0.028] "
     ]
    },
    {
     "name": "stdout",
     "output_type": "stream",
     "text": [
      "Model accuracy 0.9968652129173279, Loss 0.027965453049788872\n"
     ]
    },
    {
     "name": "stderr",
     "output_type": "stream",
     "text": [
      "\n"
     ]
    }
   ],
   "source": [
    "train_model(CNN_model,10, swedish_training_loader)"
   ]
  },
  {
   "cell_type": "code",
   "execution_count": 32,
   "metadata": {},
   "outputs": [
    {
     "name": "stdout",
     "output_type": "stream",
     "text": [
      "Test accuracy 0.9315403699874878, test loss 0.2749882409922205\n",
      "[[18  0  0  0  0  2  0  0  0  0  0  0  0  0  0  0  0  0]\n",
      " [ 1  6  0  0  0  2  0  0  0  0  0  0  0  0  0  0  0  0]\n",
      " [ 0  0  3  0  0  0  0  0  0  0  0  0  0  0  0  0  0  0]\n",
      " [ 0  0  0 29  0  0  0  0  0  0  0  0  1  0  0  0  0  0]\n",
      " [ 0  0  0  0 50  2  0  0  0  0  0  0  0  0  0  0  0  0]\n",
      " [ 0  0  0  1  0 11  0  0  0  0  0  0  1  0  0  0  0  1]\n",
      " [ 0  0  0  1  0  0 16  0  0  0  0  0  0  0  0  0  0  0]\n",
      " [ 0  0  0  0  1  0  0 28  0  0  0  0  0  0  0  0  0  0]\n",
      " [ 0  0  0  0  0  0  0  0  4  0  0  0  0  0  0  0  0  0]\n",
      " [ 0  0  0  0  0  0  0  0  0  8  0  0  0  0  0  0  0  0]\n",
      " [ 1  0  0  0  0  0  0  0  0  0 86  1  2  0  0  0  0  0]\n",
      " [ 0  0  0  0  0  1  0  0  0  0  1 31  0  0  0  0  0  1]\n",
      " [ 0  0  0  0  0  0  0  0  0  0  0  0 15  0  0  0  0  0]\n",
      " [ 0  0  0  0  0  0  0  0  0  0  0  0  0  9  0  0  0  0]\n",
      " [ 0  0  0  0  0  0  0  0  0  0  1  0  0  0  0  1  0  0]\n",
      " [ 0  0  0  0  1  0  0  0  0  0  1  0  0  0  0 50  0  1]\n",
      " [ 0  0  0  0  0  0  0  0  0  0  0  0  0  0  0  0  2  0]\n",
      " [ 1  0  0  0  2  0  0  0  0  0  0  0  0  0  0  0  0 15]]\n"
     ]
    }
   ],
   "source": [
    "test_loss, test_acc, confusion = validation(CNN_model, swedish_test_loader, criterion)\n",
    "print(f\"Test accuracy {test_acc}, test loss {test_loss}\")\n",
    "def print_array(array):\n",
    "  np.set_printoptions(threshold=np.inf)\n",
    "  print(array)\n",
    "  np.set_printoptions(threshold=1000)\n",
    "print_array(confusion)"
   ]
  },
  {
   "cell_type": "code",
   "execution_count": null,
   "metadata": {},
   "outputs": [],
   "source": []
  }
 ],
 "metadata": {
  "kernelspec": {
   "display_name": "Project",
   "language": "python",
   "name": "python3"
  },
  "language_info": {
   "codemirror_mode": {
    "name": "ipython",
    "version": 3
   },
   "file_extension": ".py",
   "mimetype": "text/x-python",
   "name": "python",
   "nbconvert_exporter": "python",
   "pygments_lexer": "ipython3",
   "version": "3.13.2"
  }
 },
 "nbformat": 4,
 "nbformat_minor": 2
}
